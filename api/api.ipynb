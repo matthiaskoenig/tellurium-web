{
 "cells": [
  {
   "cell_type": "markdown",
   "metadata": {
    "collapsed": true
   },
   "source": [
    "# tellurium-web REST API Client\n",
    "The following tutorial demonstrates how to access tellurium-web via the python API.\n",
    "\n",
    "\n",
    "To run the notebook create a virtualenv with the requirements\n",
    "```\n",
    "cd api\n",
    "mkvirtualenv teweb-api --python=python3\n",
    "(teweb-api) pip install api-requirements.txt\n",
    "(teweb-api) python -m ipykernel install --user --name=teweb-api\n",
    "(teweb-api) jupyter notebook api.ipynb\n",
    "```\n",
    "\n",
    "Alternatively you can install the dependency via pip\n",
    "```\n",
    "pip install coreapi\n",
    "```"
   ]
  },
  {
   "cell_type": "code",
   "execution_count": 1,
   "metadata": {
    "collapsed": true
   },
   "outputs": [],
   "source": [
    "BASE_URL = \"http://127.0.0.1:8001\""
   ]
  },
  {
   "cell_type": "code",
   "execution_count": 2,
   "metadata": {
    "collapsed": true
   },
   "outputs": [],
   "source": [
    "import os\n",
    "import coreapi\n",
    "import json\n",
    "import pandas as pd"
   ]
  },
  {
   "cell_type": "code",
   "execution_count": 3,
   "metadata": {
    "collapsed": true
   },
   "outputs": [],
   "source": [
    "# some of the functionality requires authentication\n",
    "auth = coreapi.auth.BasicAuthentication(\n",
    "    username='mkoenig',\n",
    "    password=os.environ['DJANGO_ADMIN_PASSWORD']\n",
    ")\n",
    "client = coreapi.Client(auth=auth)"
   ]
  },
  {
   "cell_type": "code",
   "execution_count": 4,
   "metadata": {},
   "outputs": [
    {
     "name": "stdout",
     "output_type": "stream",
     "text": [
      "Tellurium API\n",
      "http://127.0.0.1:8001/api/\n"
     ]
    }
   ],
   "source": [
    "# get the api scema\n",
    "document = client.get(BASE_URL + \"/api/\")\n",
    "print(document.title)\n",
    "print(document.url)"
   ]
  },
  {
   "cell_type": "markdown",
   "metadata": {},
   "source": [
    "## COMBINE archives\n",
    "Overview over available functionality, keys in [] are optional params"
   ]
  },
  {
   "cell_type": "code",
   "execution_count": 5,
   "metadata": {},
   "outputs": [
    {
     "name": "stdout",
     "output_type": "stream",
     "text": [
      "{\n",
      "    list([name], [task_id], [tags], [created], [search])\n",
      "    create(name, file, tags, [md5], [task_id])\n",
      "    read(uuid, [name], [task_id], [tags], [created], [search])\n",
      "    update(uuid, name, file, tags, [md5], [task_id], [name], [task_id], [tags], [created], [search])\n",
      "    partial_update(uuid, [name], [file], [md5], [task_id], [tags], [name], [task_id], [tags], [created], [search])\n",
      "    delete(uuid, [name], [task_id], [tags], [created], [search])\n",
      "}\n"
     ]
    }
   ],
   "source": [
    "print(document[\"archives\"])"
   ]
  },
  {
   "cell_type": "markdown",
   "metadata": {},
   "source": [
    "## Tags \n",
    "Overview over available functionality, keys in [] are optional params"
   ]
  },
  {
   "cell_type": "code",
   "execution_count": 6,
   "metadata": {},
   "outputs": [
    {
     "name": "stdout",
     "output_type": "stream",
     "text": [
      "{\n",
      "    list([name], [type], [search])\n",
      "    create(name, type)\n",
      "    read(uuid, [name], [type], [search])\n",
      "    update(uuid, name, type, [name], [type], [search])\n",
      "    partial_update(uuid, [name], [type], [name], [type], [search])\n",
      "    delete(uuid, [name], [type], [search])\n",
      "}\n"
     ]
    }
   ],
   "source": [
    "print(document[\"tags\"])"
   ]
  },
  {
   "cell_type": "markdown",
   "metadata": {},
   "source": [
    "## Users\n",
    "Overview over available functionality, keys in [] are optional params"
   ]
  },
  {
   "cell_type": "code",
   "execution_count": 7,
   "metadata": {},
   "outputs": [
    {
     "name": "stdout",
     "output_type": "stream",
     "text": [
      "{\n",
      "    list([is_staff], [username], [search])\n",
      "    create(username, [email], [is_staff])\n",
      "    read(id, [is_staff], [username], [search])\n",
      "    update(id, username, [email], [is_staff], [is_staff], [username], [search])\n",
      "    partial_update(id, [username], [email], [is_staff], [is_staff], [username], [search])\n",
      "    delete(id, [is_staff], [username], [search])\n",
      "}\n"
     ]
    }
   ],
   "source": [
    "print(document[\"users\"])"
   ]
  },
  {
   "cell_type": "markdown",
   "metadata": {},
   "source": [
    "## Examples queries"
   ]
  },
  {
   "cell_type": "code",
   "execution_count": null,
   "metadata": {},
   "outputs": [],
   "source": [
    "# get all archives\n",
    "data = client.action(document,[\"archives\", \"list\"])\n",
    "df = pd.read_json(json.dumps(data, indent=4))\n",
    "print(df.head())"
   ]
  },
  {
   "cell_type": "code",
   "execution_count": 9,
   "metadata": {},
   "outputs": [
    {
     "name": "stdout",
     "output_type": "stream",
     "text": [
      "[\n",
      "    {\n",
      "        \"name\": \"CombineArchiveShowCase.omex\",\n",
      "        \"file\": \"http://127.0.0.1:8001/media/archives/CombineArchiveShowCase.omex\",\n",
      "        \"created\": \"2017-11-09T10:11:04.610131Z\",\n",
      "        \"md5\": \"feee500260a73f10040b8ba0681936e5\",\n",
      "        \"task_id\": \"\",\n",
      "        \"tags\": [\n",
      "            \"http://127.0.0.1:8001/api/tags/4e7126ff-0aab-4a83-9959-bf6f027dcfd4/\",\n",
      "            \"http://127.0.0.1:8001/api/tags/b5539aee-4bde-469d-95b6-57666ea03d84/\",\n",
      "            \"http://127.0.0.1:8001/api/tags/40e91213-48e0-4a44-9102-cc19e388fd91/\",\n",
      "            \"http://127.0.0.1:8001/api/tags/7c0e5d07-88bd-4549-a75a-deefa1e14377/\",\n",
      "            \"http://127.0.0.1:8001/api/tags/04319357-328a-4f2e-bd8b-b9258ab9066f/\"\n",
      "        ],\n",
      "        \"uuid\": \"dc2abfa0-0507-4897-95d5-a9f95dfb966d\",\n",
      "        \"user\": null\n",
      "    },\n",
      "    {\n",
      "        \"name\": \"L1V3_lorenz-sbml.omex\",\n",
      "        \"file\": \"http://127.0.0.1:8001/media/archives/L1V3_lorenz-sbml.omex\",\n",
      "        \"created\": \"2017-11-09T10:11:04.861576Z\",\n",
      "        \"md5\": \"82333b80536f6a75b0370c3cdd2e75f3\",\n",
      "        \"task_id\": \"\",\n",
      "        \"tags\": [\n",
      "            \"http://127.0.0.1:8001/api/tags/7c0e5d07-88bd-4549-a75a-deefa1e14377/\",\n",
      "            \"http://127.0.0.1:8001/api/tags/4e7126ff-0aab-4a83-9959-bf6f027dcfd4/\",\n",
      "            \"http://127.0.0.1:8001/api/tags/0dd1be33-77df-4177-831c-f6de59f43033/\"\n",
      "        ],\n",
      "        \"uuid\": \"6759aa20-286b-4ff3-bcab-47f31bd23c89\",\n",
      "        \"user\": null\n",
      "    },\n",
      "    {\n",
      "        \"name\": \"L1V3_oscli-nested-pulse.omex\",\n",
      "        \"file\": \"http://127.0.0.1:8001/media/archives/L1V3_oscli-nested-pulse.omex\",\n",
      "        \"created\": \"2017-11-09T10:11:04.911101Z\",\n",
      "        \"md5\": \"481583e8587eaf315e20a4209e767326\",\n",
      "        \"task_id\": \"\",\n",
      "        \"tags\": [\n",
      "            \"http://127.0.0.1:8001/api/tags/7c0e5d07-88bd-4549-a75a-deefa1e14377/\",\n",
      "            \"http://127.0.0.1:8001/api/tags/4e7126ff-0aab-4a83-9959-bf6f027dcfd4/\",\n",
      "            \"http://127.0.0.1:8001/api/tags/04319357-328a-4f2e-bd8b-b9258ab9066f/\"\n",
      "        ],\n",
      "        \"uuid\": \"ed593421-a8e3-47b4-ae44-e83dfa1ea024\",\n",
      "        \"user\": null\n",
      "    },\n",
      "    {\n",
      "        \"name\": \"L1V3_parameter-scan-2d.omex\",\n",
      "        \"file\": \"http://127.0.0.1:8001/media/archives/L1V3_parameter-scan-2d.omex\",\n",
      "        \"created\": \"2017-11-09T10:11:04.946025Z\",\n",
      "        \"md5\": \"bf51abf298c6429ac95b6fccf9baca34\",\n",
      "        \"task_id\": \"\",\n",
      "        \"tags\": [\n",
      "            \"http://127.0.0.1:8001/api/tags/7c0e5d07-88bd-4549-a75a-deefa1e14377/\",\n",
      "            \"http://127.0.0.1:8001/api/tags/4e7126ff-0aab-4a83-9959-bf6f027dcfd4/\",\n",
      "            \"http://127.0.0.1:8001/api/tags/04319357-328a-4f2e-bd8b-b9258ab9066f/\"\n",
      "        ],\n",
      "        \"uuid\": \"50157759-1e8b-4847-9b1f-667f6322a4e9\",\n",
      "        \"user\": null\n",
      "    },\n",
      "    {\n",
      "        \"name\": \"L1V3_plotting-data-csv.omex\",\n",
      "        \"file\": \"http://127.0.0.1:8001/media/archives/L1V3_plotting-data-csv.omex\",\n",
      "        \"created\": \"2017-11-09T10:11:04.983059Z\",\n",
      "        \"md5\": \"070377b5983257f546a098251714407e\",\n",
      "        \"task_id\": \"\",\n",
      "        \"tags\": [\n",
      "            \"http://127.0.0.1:8001/api/tags/7c0e5d07-88bd-4549-a75a-deefa1e14377/\",\n",
      "            \"http://127.0.0.1:8001/api/tags/4e7126ff-0aab-4a83-9959-bf6f027dcfd4/\",\n",
      "            \"http://127.0.0.1:8001/api/tags/04319357-328a-4f2e-bd8b-b9258ab9066f/\",\n",
      "            \"http://127.0.0.1:8001/api/tags/2f502e89-8de4-43ab-9df3-619a8e555717/\"\n",
      "        ],\n",
      "        \"uuid\": \"992adc04-5c3f-4bc4-a92e-d32f0399f804\",\n",
      "        \"user\": null\n",
      "    },\n",
      "    {\n",
      "        \"name\": \"L1V3_plotting-data-numl.omex\",\n",
      "        \"file\": \"http://127.0.0.1:8001/media/archives/L1V3_plotting-data-numl.omex\",\n",
      "        \"created\": \"2017-11-09T10:11:05.046508Z\",\n",
      "        \"md5\": \"e7001c63fbabd9886dfbe25fcf2f7a58\",\n",
      "        \"task_id\": \"\",\n",
      "        \"tags\": [\n",
      "            \"http://127.0.0.1:8001/api/tags/7c0e5d07-88bd-4549-a75a-deefa1e14377/\",\n",
      "            \"http://127.0.0.1:8001/api/tags/4e7126ff-0aab-4a83-9959-bf6f027dcfd4/\",\n",
      "            \"http://127.0.0.1:8001/api/tags/04319357-328a-4f2e-bd8b-b9258ab9066f/\",\n",
      "            \"http://127.0.0.1:8001/api/tags/2f502e89-8de4-43ab-9df3-619a8e555717/\"\n",
      "        ],\n",
      "        \"uuid\": \"a2e535b3-f271-45e7-9633-c5cc05546fa3\",\n",
      "        \"user\": null\n",
      "    },\n",
      "    {\n",
      "        \"name\": \"L1V3_repeated-scan-oscli.omex\",\n",
      "        \"file\": \"http://127.0.0.1:8001/media/archives/L1V3_repeated-scan-oscli.omex\",\n",
      "        \"created\": \"2017-11-09T10:11:05.095233Z\",\n",
      "        \"md5\": \"0443053bf76ff55261fbc00cc969d03a\",\n",
      "        \"task_id\": \"\",\n",
      "        \"tags\": [\n",
      "            \"http://127.0.0.1:8001/api/tags/7c0e5d07-88bd-4549-a75a-deefa1e14377/\",\n",
      "            \"http://127.0.0.1:8001/api/tags/4e7126ff-0aab-4a83-9959-bf6f027dcfd4/\",\n",
      "            \"http://127.0.0.1:8001/api/tags/04319357-328a-4f2e-bd8b-b9258ab9066f/\"\n",
      "        ],\n",
      "        \"uuid\": \"c5394d6c-364a-410c-b02b-e7a009a4f7f3\",\n",
      "        \"user\": null\n",
      "    },\n",
      "    {\n",
      "        \"name\": \"L1V3_repeated-steady-scan-oscli.omex\",\n",
      "        \"file\": \"http://127.0.0.1:8001/media/archives/L1V3_repeated-steady-scan-oscli.omex\",\n",
      "        \"created\": \"2017-11-09T10:11:05.130180Z\",\n",
      "        \"md5\": \"f4b5f8e3f443f59f63f0bea0741c03ab\",\n",
      "        \"task_id\": \"\",\n",
      "        \"tags\": [\n",
      "            \"http://127.0.0.1:8001/api/tags/7c0e5d07-88bd-4549-a75a-deefa1e14377/\",\n",
      "            \"http://127.0.0.1:8001/api/tags/4e7126ff-0aab-4a83-9959-bf6f027dcfd4/\",\n",
      "            \"http://127.0.0.1:8001/api/tags/04319357-328a-4f2e-bd8b-b9258ab9066f/\"\n",
      "        ],\n",
      "        \"uuid\": \"c12fe743-f19e-4c5f-939d-e3d02861ab21\",\n",
      "        \"user\": null\n",
      "    },\n",
      "    {\n",
      "        \"name\": \"L1V3_repeated-stochastic-runs.omex\",\n",
      "        \"file\": \"http://127.0.0.1:8001/media/archives/L1V3_repeated-stochastic-runs.omex\",\n",
      "        \"created\": \"2017-11-09T10:11:05.167576Z\",\n",
      "        \"md5\": \"76cc799746b32a7c6d2367bf76c17fad\",\n",
      "        \"task_id\": \"\",\n",
      "        \"tags\": [\n",
      "            \"http://127.0.0.1:8001/api/tags/7c0e5d07-88bd-4549-a75a-deefa1e14377/\",\n",
      "            \"http://127.0.0.1:8001/api/tags/4e7126ff-0aab-4a83-9959-bf6f027dcfd4/\",\n",
      "            \"http://127.0.0.1:8001/api/tags/04319357-328a-4f2e-bd8b-b9258ab9066f/\"\n",
      "        ],\n",
      "        \"uuid\": \"241c500f-766a-485a-896b-76860248974b\",\n",
      "        \"user\": null\n",
      "    },\n",
      "    {\n",
      "        \"name\": \"L1V3_vanderpol-sbml.omex\",\n",
      "        \"file\": \"http://127.0.0.1:8001/media/archives/L1V3_vanderpol-sbml.omex\",\n",
      "        \"created\": \"2017-11-09T10:11:05.270325Z\",\n",
      "        \"md5\": \"57479e2720cf7f1078697920b4100aed\",\n",
      "        \"task_id\": \"\",\n",
      "        \"tags\": [\n",
      "            \"http://127.0.0.1:8001/api/tags/7c0e5d07-88bd-4549-a75a-deefa1e14377/\",\n",
      "            \"http://127.0.0.1:8001/api/tags/4e7126ff-0aab-4a83-9959-bf6f027dcfd4/\",\n",
      "            \"http://127.0.0.1:8001/api/tags/04319357-328a-4f2e-bd8b-b9258ab9066f/\"\n",
      "        ],\n",
      "        \"uuid\": \"2b744cd2-eab5-4908-810f-26f35f34c863\",\n",
      "        \"user\": null\n",
      "    }\n",
      "]\n"
     ]
    }
   ],
   "source": [
    "# search for archives with given tags (via tag id)\n",
    "data = client.action(document,[\"archives\", \"list\"], params={\"tags\": 1})\n",
    "print(json.dumps(data, indent=4))"
   ]
  },
  {
   "cell_type": "code",
   "execution_count": 10,
   "metadata": {},
   "outputs": [
    {
     "name": "stdout",
     "output_type": "stream",
     "text": [
      "[\n",
      "    {\n",
      "        \"name\": \"sbml\",\n",
      "        \"type\": \"format\",\n",
      "        \"uuid\": \"4e7126ff-0aab-4a83-9959-bf6f027dcfd4\"\n",
      "    },\n",
      "    {\n",
      "        \"name\": \"cellml\",\n",
      "        \"type\": \"format\",\n",
      "        \"uuid\": \"b5539aee-4bde-469d-95b6-57666ea03d84\"\n",
      "    },\n",
      "    {\n",
      "        \"name\": \"sbgn\",\n",
      "        \"type\": \"format\",\n",
      "        \"uuid\": \"40e91213-48e0-4a44-9102-cc19e388fd91\"\n",
      "    },\n",
      "    {\n",
      "        \"name\": \"sed-ml\",\n",
      "        \"type\": \"format\",\n",
      "        \"uuid\": \"7c0e5d07-88bd-4549-a75a-deefa1e14377\"\n",
      "    }\n",
      "]\n"
     ]
    }
   ],
   "source": [
    "# search for existing tags\n",
    "data = client.action(document,[\"tags\", \"list\"], params={\"type\":\"format\"} )\n",
    "print(json.dumps(data,indent=4))"
   ]
  },
  {
   "cell_type": "code",
   "execution_count": 11,
   "metadata": {},
   "outputs": [
    {
     "name": "stdout",
     "output_type": "stream",
     "text": [
      "[\n",
      "    {\n",
      "        \"url\": \"http://127.0.0.1:8001/api/users/2/\",\n",
      "        \"username\": \"janek89\",\n",
      "        \"email\": \"janekg89@hotmail.de\",\n",
      "        \"is_staff\": true\n",
      "    }\n",
      "]\n"
     ]
    }
   ],
   "source": [
    "# search for users\n",
    "data = client.action(document,[\"users\", \"list\",], params={\"search\":\"ja\"} )\n",
    "print(json.dumps(data,indent=4))"
   ]
  },
  {
   "cell_type": "code",
   "execution_count": 12,
   "metadata": {},
   "outputs": [
    {
     "name": "stdout",
     "output_type": "stream",
     "text": [
      "[\n",
      "    {\n",
      "        \"name\": \"CombineArchiveShowCase.omex\",\n",
      "        \"file\": \"http://127.0.0.1:8001/media/archives/CombineArchiveShowCase.omex\",\n",
      "        \"created\": \"2017-11-09T10:11:04.610131Z\",\n",
      "        \"md5\": \"feee500260a73f10040b8ba0681936e5\",\n",
      "        \"task_id\": \"\",\n",
      "        \"tags\": [\n",
      "            \"http://127.0.0.1:8001/api/tags/4e7126ff-0aab-4a83-9959-bf6f027dcfd4/\",\n",
      "            \"http://127.0.0.1:8001/api/tags/b5539aee-4bde-469d-95b6-57666ea03d84/\",\n",
      "            \"http://127.0.0.1:8001/api/tags/40e91213-48e0-4a44-9102-cc19e388fd91/\",\n",
      "            \"http://127.0.0.1:8001/api/tags/7c0e5d07-88bd-4549-a75a-deefa1e14377/\",\n",
      "            \"http://127.0.0.1:8001/api/tags/04319357-328a-4f2e-bd8b-b9258ab9066f/\"\n",
      "        ],\n",
      "        \"uuid\": \"dc2abfa0-0507-4897-95d5-a9f95dfb966d\",\n",
      "        \"user\": null\n",
      "    },\n",
      "    {\n",
      "        \"name\": \"L1V3_ikappab.omex\",\n",
      "        \"file\": \"http://127.0.0.1:8001/media/archives/L1V3_ikappab.omex\",\n",
      "        \"created\": \"2017-11-09T10:11:04.752757Z\",\n",
      "        \"md5\": \"5a4e1eb2d7d38b5c46a771c452618e81\",\n",
      "        \"task_id\": \"\",\n",
      "        \"tags\": [\n",
      "            \"http://127.0.0.1:8001/api/tags/7c0e5d07-88bd-4549-a75a-deefa1e14377/\",\n",
      "            \"http://127.0.0.1:8001/api/tags/04319357-328a-4f2e-bd8b-b9258ab9066f/\"\n",
      "        ],\n",
      "        \"uuid\": \"b49573c6-58f7-482c-8647-a83989a8dbf6\",\n",
      "        \"user\": null\n",
      "    },\n",
      "    {\n",
      "        \"name\": \"L1V3_leloup-sbml.omex\",\n",
      "        \"file\": \"http://127.0.0.1:8001/media/archives/L1V3_leloup-sbml.omex\",\n",
      "        \"created\": \"2017-11-09T10:11:04.779681Z\",\n",
      "        \"md5\": \"ac345d6493f0e3d2372c95a692176ec1\",\n",
      "        \"task_id\": \"\",\n",
      "        \"tags\": [\n",
      "            \"http://127.0.0.1:8001/api/tags/7c0e5d07-88bd-4549-a75a-deefa1e14377/\",\n",
      "            \"http://127.0.0.1:8001/api/tags/04319357-328a-4f2e-bd8b-b9258ab9066f/\"\n",
      "        ],\n",
      "        \"uuid\": \"b109c3a3-d07e-4ff8-8ff6-8dc2dccf0e3a\",\n",
      "        \"user\": null\n",
      "    },\n",
      "    {\n",
      "        \"name\": \"L1V3_lorenz-sbml.omex\",\n",
      "        \"file\": \"http://127.0.0.1:8001/media/archives/L1V3_lorenz-sbml.omex\",\n",
      "        \"created\": \"2017-11-09T10:11:04.861576Z\",\n",
      "        \"md5\": \"82333b80536f6a75b0370c3cdd2e75f3\",\n",
      "        \"task_id\": \"\",\n",
      "        \"tags\": [\n",
      "            \"http://127.0.0.1:8001/api/tags/7c0e5d07-88bd-4549-a75a-deefa1e14377/\",\n",
      "            \"http://127.0.0.1:8001/api/tags/4e7126ff-0aab-4a83-9959-bf6f027dcfd4/\",\n",
      "            \"http://127.0.0.1:8001/api/tags/0dd1be33-77df-4177-831c-f6de59f43033/\"\n",
      "        ],\n",
      "        \"uuid\": \"6759aa20-286b-4ff3-bcab-47f31bd23c89\",\n",
      "        \"user\": null\n",
      "    },\n",
      "    {\n",
      "        \"name\": \"L1V3_oscli-nested-pulse.omex\",\n",
      "        \"file\": \"http://127.0.0.1:8001/media/archives/L1V3_oscli-nested-pulse.omex\",\n",
      "        \"created\": \"2017-11-09T10:11:04.911101Z\",\n",
      "        \"md5\": \"481583e8587eaf315e20a4209e767326\",\n",
      "        \"task_id\": \"\",\n",
      "        \"tags\": [\n",
      "            \"http://127.0.0.1:8001/api/tags/7c0e5d07-88bd-4549-a75a-deefa1e14377/\",\n",
      "            \"http://127.0.0.1:8001/api/tags/4e7126ff-0aab-4a83-9959-bf6f027dcfd4/\",\n",
      "            \"http://127.0.0.1:8001/api/tags/04319357-328a-4f2e-bd8b-b9258ab9066f/\"\n",
      "        ],\n",
      "        \"uuid\": \"ed593421-a8e3-47b4-ae44-e83dfa1ea024\",\n",
      "        \"user\": null\n",
      "    },\n",
      "    {\n",
      "        \"name\": \"L1V3_parameter-scan-2d.omex\",\n",
      "        \"file\": \"http://127.0.0.1:8001/media/archives/L1V3_parameter-scan-2d.omex\",\n",
      "        \"created\": \"2017-11-09T10:11:04.946025Z\",\n",
      "        \"md5\": \"bf51abf298c6429ac95b6fccf9baca34\",\n",
      "        \"task_id\": \"\",\n",
      "        \"tags\": [\n",
      "            \"http://127.0.0.1:8001/api/tags/7c0e5d07-88bd-4549-a75a-deefa1e14377/\",\n",
      "            \"http://127.0.0.1:8001/api/tags/4e7126ff-0aab-4a83-9959-bf6f027dcfd4/\",\n",
      "            \"http://127.0.0.1:8001/api/tags/04319357-328a-4f2e-bd8b-b9258ab9066f/\"\n",
      "        ],\n",
      "        \"uuid\": \"50157759-1e8b-4847-9b1f-667f6322a4e9\",\n",
      "        \"user\": null\n",
      "    },\n",
      "    {\n",
      "        \"name\": \"L1V3_plotting-data-csv.omex\",\n",
      "        \"file\": \"http://127.0.0.1:8001/media/archives/L1V3_plotting-data-csv.omex\",\n",
      "        \"created\": \"2017-11-09T10:11:04.983059Z\",\n",
      "        \"md5\": \"070377b5983257f546a098251714407e\",\n",
      "        \"task_id\": \"\",\n",
      "        \"tags\": [\n",
      "            \"http://127.0.0.1:8001/api/tags/7c0e5d07-88bd-4549-a75a-deefa1e14377/\",\n",
      "            \"http://127.0.0.1:8001/api/tags/4e7126ff-0aab-4a83-9959-bf6f027dcfd4/\",\n",
      "            \"http://127.0.0.1:8001/api/tags/04319357-328a-4f2e-bd8b-b9258ab9066f/\",\n",
      "            \"http://127.0.0.1:8001/api/tags/2f502e89-8de4-43ab-9df3-619a8e555717/\"\n",
      "        ],\n",
      "        \"uuid\": \"992adc04-5c3f-4bc4-a92e-d32f0399f804\",\n",
      "        \"user\": null\n",
      "    },\n",
      "    {\n",
      "        \"name\": \"L1V3_plotting-data-numl.omex\",\n",
      "        \"file\": \"http://127.0.0.1:8001/media/archives/L1V3_plotting-data-numl.omex\",\n",
      "        \"created\": \"2017-11-09T10:11:05.046508Z\",\n",
      "        \"md5\": \"e7001c63fbabd9886dfbe25fcf2f7a58\",\n",
      "        \"task_id\": \"\",\n",
      "        \"tags\": [\n",
      "            \"http://127.0.0.1:8001/api/tags/7c0e5d07-88bd-4549-a75a-deefa1e14377/\",\n",
      "            \"http://127.0.0.1:8001/api/tags/4e7126ff-0aab-4a83-9959-bf6f027dcfd4/\",\n",
      "            \"http://127.0.0.1:8001/api/tags/04319357-328a-4f2e-bd8b-b9258ab9066f/\",\n",
      "            \"http://127.0.0.1:8001/api/tags/2f502e89-8de4-43ab-9df3-619a8e555717/\"\n",
      "        ],\n",
      "        \"uuid\": \"a2e535b3-f271-45e7-9633-c5cc05546fa3\",\n",
      "        \"user\": null\n",
      "    },\n",
      "    {\n",
      "        \"name\": \"L1V3_repeated-scan-oscli.omex\",\n",
      "        \"file\": \"http://127.0.0.1:8001/media/archives/L1V3_repeated-scan-oscli.omex\",\n",
      "        \"created\": \"2017-11-09T10:11:05.095233Z\",\n",
      "        \"md5\": \"0443053bf76ff55261fbc00cc969d03a\",\n",
      "        \"task_id\": \"\",\n",
      "        \"tags\": [\n",
      "            \"http://127.0.0.1:8001/api/tags/7c0e5d07-88bd-4549-a75a-deefa1e14377/\",\n",
      "            \"http://127.0.0.1:8001/api/tags/4e7126ff-0aab-4a83-9959-bf6f027dcfd4/\",\n",
      "            \"http://127.0.0.1:8001/api/tags/04319357-328a-4f2e-bd8b-b9258ab9066f/\"\n",
      "        ],\n",
      "        \"uuid\": \"c5394d6c-364a-410c-b02b-e7a009a4f7f3\",\n",
      "        \"user\": null\n",
      "    },\n",
      "    {\n",
      "        \"name\": \"L1V3_repeated-steady-scan-oscli.omex\",\n",
      "        \"file\": \"http://127.0.0.1:8001/media/archives/L1V3_repeated-steady-scan-oscli.omex\",\n",
      "        \"created\": \"2017-11-09T10:11:05.130180Z\",\n",
      "        \"md5\": \"f4b5f8e3f443f59f63f0bea0741c03ab\",\n",
      "        \"task_id\": \"\",\n",
      "        \"tags\": [\n",
      "            \"http://127.0.0.1:8001/api/tags/7c0e5d07-88bd-4549-a75a-deefa1e14377/\",\n",
      "            \"http://127.0.0.1:8001/api/tags/4e7126ff-0aab-4a83-9959-bf6f027dcfd4/\",\n",
      "            \"http://127.0.0.1:8001/api/tags/04319357-328a-4f2e-bd8b-b9258ab9066f/\"\n",
      "        ],\n",
      "        \"uuid\": \"c12fe743-f19e-4c5f-939d-e3d02861ab21\",\n",
      "        \"user\": null\n",
      "    },\n",
      "    {\n",
      "        \"name\": \"L1V3_repeated-stochastic-runs.omex\",\n",
      "        \"file\": \"http://127.0.0.1:8001/media/archives/L1V3_repeated-stochastic-runs.omex\",\n",
      "        \"created\": \"2017-11-09T10:11:05.167576Z\",\n",
      "        \"md5\": \"76cc799746b32a7c6d2367bf76c17fad\",\n",
      "        \"task_id\": \"\",\n",
      "        \"tags\": [\n",
      "            \"http://127.0.0.1:8001/api/tags/7c0e5d07-88bd-4549-a75a-deefa1e14377/\",\n",
      "            \"http://127.0.0.1:8001/api/tags/4e7126ff-0aab-4a83-9959-bf6f027dcfd4/\",\n",
      "            \"http://127.0.0.1:8001/api/tags/04319357-328a-4f2e-bd8b-b9258ab9066f/\"\n",
      "        ],\n",
      "        \"uuid\": \"241c500f-766a-485a-896b-76860248974b\",\n",
      "        \"user\": null\n",
      "    },\n",
      "    {\n",
      "        \"name\": \"L1V3_repressilator.omex\",\n",
      "        \"file\": \"http://127.0.0.1:8001/media/archives/L1V3_repressilator.omex\",\n",
      "        \"created\": \"2017-11-09T10:11:05.206650Z\",\n",
      "        \"md5\": \"c3a3358468b91cac251872ca96ce1050\",\n",
      "        \"task_id\": \"\",\n",
      "        \"tags\": [\n",
      "            \"http://127.0.0.1:8001/api/tags/7c0e5d07-88bd-4549-a75a-deefa1e14377/\",\n",
      "            \"http://127.0.0.1:8001/api/tags/0dd1be33-77df-4177-831c-f6de59f43033/\"\n",
      "        ],\n",
      "        \"uuid\": \"824e545e-d6b2-4b08-8694-877570c30ce2\",\n",
      "        \"user\": null\n",
      "    },\n",
      "    {\n",
      "        \"name\": \"L1V3_vanderpol-sbml.omex\",\n",
      "        \"file\": \"http://127.0.0.1:8001/media/archives/L1V3_vanderpol-sbml.omex\",\n",
      "        \"created\": \"2017-11-09T10:11:05.270325Z\",\n",
      "        \"md5\": \"57479e2720cf7f1078697920b4100aed\",\n",
      "        \"task_id\": \"\",\n",
      "        \"tags\": [\n",
      "            \"http://127.0.0.1:8001/api/tags/7c0e5d07-88bd-4549-a75a-deefa1e14377/\",\n",
      "            \"http://127.0.0.1:8001/api/tags/4e7126ff-0aab-4a83-9959-bf6f027dcfd4/\",\n",
      "            \"http://127.0.0.1:8001/api/tags/04319357-328a-4f2e-bd8b-b9258ab9066f/\"\n",
      "        ],\n",
      "        \"uuid\": \"2b744cd2-eab5-4908-810f-26f35f34c863\",\n",
      "        \"user\": null\n",
      "    }\n",
      "]\n"
     ]
    }
   ],
   "source": [
    "# search in archives for SBML\n",
    "data = client.action(document,[\"archives\", \"list\"], params={\"search\":\"sbml\"} )\n",
    "print(json.dumps(data, indent=4))"
   ]
  },
  {
   "cell_type": "code",
   "execution_count": null,
   "metadata": {
    "collapsed": true
   },
   "outputs": [],
   "source": []
  }
 ],
 "metadata": {
  "kernelspec": {
   "display_name": "teweb-api",
   "language": "python",
   "name": "teweb-api"
  },
  "language_info": {
   "codemirror_mode": {
    "name": "ipython",
    "version": 3
   },
   "file_extension": ".py",
   "mimetype": "text/x-python",
   "name": "python",
   "nbconvert_exporter": "python",
   "pygments_lexer": "ipython3",
   "version": "3.5.2"
  }
 },
 "nbformat": 4,
 "nbformat_minor": 1
}
